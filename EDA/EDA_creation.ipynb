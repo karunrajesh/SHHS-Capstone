{
 "cells": [
  {
   "cell_type": "markdown",
   "id": "pregnant-hudson",
   "metadata": {},
   "source": [
    "# Exploratory Data Analysis"
   ]
  },
  {
   "cell_type": "markdown",
   "id": "wicked-creature",
   "metadata": {},
   "source": [
    "#### Setup"
   ]
  },
  {
   "cell_type": "code",
   "execution_count": 1,
   "id": "foreign-africa",
   "metadata": {},
   "outputs": [],
   "source": [
    "import numpy as np\n",
    "import os\n",
    "import pandas as pd"
   ]
  },
  {
   "cell_type": "markdown",
   "id": "constant-triple",
   "metadata": {},
   "source": [
    "#### Load Data"
   ]
  },
  {
   "cell_type": "code",
   "execution_count": 12,
   "id": "immediate-illustration",
   "metadata": {},
   "outputs": [],
   "source": [
    "shhs1 = pd.read_csv('/Users/nellieponarul/shhs/datasets/shhs1-dataset-0.16.0.csv')\n",
    "shhs2 = pd.read_csv('/Users/nellieponarul/shhs/datasets/shhs2-dataset-0.16.0.csv', encoding='cp1252')"
   ]
  },
  {
   "cell_type": "markdown",
   "id": "regional-northwest",
   "metadata": {},
   "source": [
    "#### Explore Covariates  \n",
    "\n",
    "Limited to those suggested by Dr. Wang: \n",
    "\n",
    "sleep predictors:\n",
    "Sleep architecture – supinep, slpeffp, slpprdp, timeremp, times34p, timest1p, timest2p, waso  \n",
    "Polysomnography (osa) – rdi3p, ai_all, avgsat, minsat  \n",
    "Questionnaire – ess_s1, saqli, fosq, hosnr02, legcrp02, sh308a-sh308f    \n",
    "\n",
    "saqli, fosq, sh308a-sh308f are only available for visit 2\n",
    "\n",
    " \n",
    "Other predictors/covariates to consider:  \n",
    "Anthropometry – bmi_s1, height, waist, neck20  \n",
    "Demography – gender, race, educat, age_s1, mstat  \n",
    "General Health – bp_s1, gh_s1, mcs_s1, mh_s1, pcs_s1, pf_s1  \n",
    "Clinical data – chol, hdl, trig, diasbp, systbp, fev1, fvc  "
   ]
  },
  {
   "cell_type": "code",
   "execution_count": 13,
   "id": "attended-civilization",
   "metadata": {},
   "outputs": [],
   "source": [
    "pred_cols = ['supinep', 'slpeffp', 'slpprdp', 'timeremp', 'times34p', 'timest1p', \n",
    "             'timest2p', 'waso', 'rdi3p', 'ai_all', 'avgsat', 'minsat', 'ess_s1', \n",
    "             'hosnr02', 'legcrp02', 'bmi_s1', 'height', 'waist', 'neck20', \n",
    "             'gender', 'race', 'educat', 'age_s1', 'mstat', 'bp_s1', 'gh_s1',\n",
    "             'mcs_s1', 'mh_s1', 'pcs_s1', 'pf_s1', 'chol', 'hdl', 'trig', \n",
    "             'diasbp', 'systbp', 'fev1', 'fvc', 'saqli', 'fosq', 'sh308a',\n",
    "             'sh308b', 'sh308c', 'sh308d', 'sh308e', 'sh308f']"
   ]
  },
  {
   "cell_type": "code",
   "execution_count": 18,
   "id": "scheduled-opera",
   "metadata": {},
   "outputs": [
    {
     "name": "stdout",
     "output_type": "stream",
     "text": [
      "45\n"
     ]
    }
   ],
   "source": [
    "print(len(pred_cols2))"
   ]
  },
  {
   "cell_type": "code",
   "execution_count": 15,
   "id": "interested-broadway",
   "metadata": {},
   "outputs": [],
   "source": [
    "shhs1.columns = shhs1.columns.str.lower()\n",
    "shhs2.columns = shhs2.columns.str.lower()"
   ]
  },
  {
   "cell_type": "code",
   "execution_count": 17,
   "id": "fatty-subsection",
   "metadata": {},
   "outputs": [],
   "source": [
    "shhs1 = shhs1[[p for p in pred_cols if p in shhs1.columns]]\n",
    "shhs2 = shhs2[[p for p in pred_cols if p in shhs2.columns]]"
   ]
  },
  {
   "cell_type": "code",
   "execution_count": 19,
   "id": "durable-enlargement",
   "metadata": {},
   "outputs": [
    {
     "name": "stdout",
     "output_type": "stream",
     "text": [
      "37 23\n"
     ]
    }
   ],
   "source": [
    "print(len(shhs1.columns), len(shhs2.columns))"
   ]
  },
  {
   "cell_type": "markdown",
   "id": "related-experience",
   "metadata": {},
   "source": [
    "Create profiling reports for EDA"
   ]
  },
  {
   "cell_type": "code",
   "execution_count": 20,
   "id": "institutional-renewal",
   "metadata": {},
   "outputs": [],
   "source": [
    "from pandas_profiling import ProfileReport"
   ]
  },
  {
   "cell_type": "code",
   "execution_count": 21,
   "id": "agricultural-hawaii",
   "metadata": {},
   "outputs": [
    {
     "name": "stderr",
     "output_type": "stream",
     "text": [
      "/Users/nellieponarul/opt/anaconda3/lib/python3.7/site-packages/pandas/core/frame.py:5042: SettingWithCopyWarning: \n",
      "A value is trying to be set on a copy of a slice from a DataFrame\n",
      "\n",
      "See the caveats in the documentation: https://pandas.pydata.org/pandas-docs/stable/user_guide/indexing.html#returning-a-view-versus-a-copy\n",
      "  errors=errors,\n"
     ]
    }
   ],
   "source": [
    "profile1 = ProfileReport(shhs1, title=\"SHHS1 Exploratory Data Analysis\", explorative=True)\n",
    "profile2 = ProfileReport(shhs2, title=\"SHHS2 Exploratory Data Analysis\", explorative=True)"
   ]
  },
  {
   "cell_type": "code",
   "execution_count": 22,
   "id": "superb-hurricane",
   "metadata": {},
   "outputs": [
    {
     "data": {
      "application/vnd.jupyter.widget-view+json": {
       "model_id": "ff38df25df324a519ead72e88b0ba488",
       "version_major": 2,
       "version_minor": 0
      },
      "text/plain": [
       "Summarize dataset:   0%|          | 0/50 [00:00<?, ?it/s]"
      ]
     },
     "metadata": {},
     "output_type": "display_data"
    },
    {
     "data": {
      "application/vnd.jupyter.widget-view+json": {
       "model_id": "ff0c414402144050a0db864330cd5603",
       "version_major": 2,
       "version_minor": 0
      },
      "text/plain": [
       "Generate report structure:   0%|          | 0/1 [00:00<?, ?it/s]"
      ]
     },
     "metadata": {},
     "output_type": "display_data"
    },
    {
     "data": {
      "application/vnd.jupyter.widget-view+json": {
       "model_id": "df20347bd54e434f999c168145331531",
       "version_major": 2,
       "version_minor": 0
      },
      "text/plain": [
       "Render HTML:   0%|          | 0/1 [00:00<?, ?it/s]"
      ]
     },
     "metadata": {},
     "output_type": "display_data"
    },
    {
     "data": {
      "application/vnd.jupyter.widget-view+json": {
       "model_id": "b177fabae2a846c684c47da8b5a416ab",
       "version_major": 2,
       "version_minor": 0
      },
      "text/plain": [
       "Export report to file:   0%|          | 0/1 [00:00<?, ?it/s]"
      ]
     },
     "metadata": {},
     "output_type": "display_data"
    },
    {
     "data": {
      "application/vnd.jupyter.widget-view+json": {
       "model_id": "4970ffecd66d412bb35584770aa4265f",
       "version_major": 2,
       "version_minor": 0
      },
      "text/plain": [
       "Summarize dataset:   0%|          | 0/36 [00:00<?, ?it/s]"
      ]
     },
     "metadata": {},
     "output_type": "display_data"
    },
    {
     "data": {
      "application/vnd.jupyter.widget-view+json": {
       "model_id": "29a88e2efded480a878cc321351f3a23",
       "version_major": 2,
       "version_minor": 0
      },
      "text/plain": [
       "Generate report structure:   0%|          | 0/1 [00:00<?, ?it/s]"
      ]
     },
     "metadata": {},
     "output_type": "display_data"
    },
    {
     "data": {
      "application/vnd.jupyter.widget-view+json": {
       "model_id": "1ae36e48354444bfb719c86f240d2b6e",
       "version_major": 2,
       "version_minor": 0
      },
      "text/plain": [
       "Render HTML:   0%|          | 0/1 [00:00<?, ?it/s]"
      ]
     },
     "metadata": {},
     "output_type": "display_data"
    },
    {
     "data": {
      "application/vnd.jupyter.widget-view+json": {
       "model_id": "9a3e8307ccb8425f887c6e7d2b3dca88",
       "version_major": 2,
       "version_minor": 0
      },
      "text/plain": [
       "Export report to file:   0%|          | 0/1 [00:00<?, ?it/s]"
      ]
     },
     "metadata": {},
     "output_type": "display_data"
    }
   ],
   "source": [
    "profile1.to_file(\"SHHS1_profile.html\")\n",
    "profile2.to_file(\"SHHS2_profile.html\")"
   ]
  },
  {
   "cell_type": "code",
   "execution_count": null,
   "id": "bored-taste",
   "metadata": {},
   "outputs": [],
   "source": []
  }
 ],
 "metadata": {
  "kernelspec": {
   "display_name": "Python 3",
   "language": "python",
   "name": "python3"
  },
  "language_info": {
   "codemirror_mode": {
    "name": "ipython",
    "version": 3
   },
   "file_extension": ".py",
   "mimetype": "text/x-python",
   "name": "python",
   "nbconvert_exporter": "python",
   "pygments_lexer": "ipython3",
   "version": "3.7.6"
  }
 },
 "nbformat": 4,
 "nbformat_minor": 5
}
